{
  "nbformat": 4,
  "nbformat_minor": 0,
  "metadata": {
    "colab": {
      "name": "Algoritmo_genetico_besouros_kk.ipynb",
      "provenance": [],
      "collapsed_sections": [],
      "include_colab_link": true
    },
    "kernelspec": {
      "name": "python3",
      "display_name": "Python 3"
    },
    "language_info": {
      "name": "python"
    }
  },
  "cells": [
    {
      "cell_type": "markdown",
      "metadata": {
        "id": "view-in-github",
        "colab_type": "text"
      },
      "source": [
        "<a href=\"https://colab.research.google.com/github/khrir/TEIN_Gambiarras/blob/main/Algoritmo_gen%C3%A9tico/besouros.ipynb\" target=\"_parent\"><img src=\"https://colab.research.google.com/assets/colab-badge.svg\" alt=\"Open In Colab\"/></a>"
      ]
    },
    {
      "cell_type": "code",
      "execution_count": 1,
      "metadata": {
        "id": "1eJrfUbV8EXD"
      },
      "outputs": [],
      "source": [
        "'''\n",
        "primeiro passo é criar uma população inicial de besouros.\n",
        "poderíamos usar valores booleanos, strings ou valores inteiros.\n",
        "para o nosso problema, irei utilizar valores inteiros de 0 a 255.\n",
        "'''\n",
        "import numpy as np\n",
        "from numpy.random import randint\n",
        "\n",
        "populacao = [] # define uma lista que receberá a pseudo população gerada.\n",
        "numero_geracoes = 300 \n",
        "tamanho_populacao = 100 # a população possui 100 besouros.\n",
        "fitness_populacao = [] # define uma lista que receberá a avaliação de cada besouro gerado."
      ]
    },
    {
      "cell_type": "code",
      "source": [
        "'''\n",
        "Essa função irá gerar uma população de besouros a cada vez que for chamada.\n",
        "Será gerado valores inteiros de 0 até 255, 100 vezes.\n",
        "O array gerado apresenta três colunas.\n",
        "\n",
        "ex:\n",
        "\n",
        "pop = gerar_populacao()\n",
        "print(pop[0])\n",
        "\n",
        "~ [122  44  99]\n",
        "'''\n",
        "def gerar_populacao():\n",
        "    return np.random.randint(255, size=(tamanho_populacao, 3))"
      ],
      "metadata": {
        "id": "8bMJpiLGl_mV"
      },
      "execution_count": 2,
      "outputs": []
    },
    {
      "cell_type": "code",
      "source": [
        "'''\n",
        "Função que retorna a combinação rgb de um besouro,\n",
        "a soma de todos os valores e qual a posição ocupa\n",
        "\n",
        "ex:\n",
        "\n",
        "print(arr)\n",
        "print(sum)\n",
        "print(value)\n",
        "\n",
        "~ [122, 44, 99]\n",
        "~ 265\n",
        "~ 0\n",
        "'''\n",
        "def fitness_function(x, index):\n",
        "    return [x[0], x[1], x[2]], x[0] + x[1] + x[2], index"
      ],
      "metadata": {
        "id": "dHEu8vWHmFxq"
      },
      "execution_count": 3,
      "outputs": []
    },
    {
      "cell_type": "code",
      "source": [
        "'''\n",
        "Essa função soma os valores das três colunas em cada uma das 100 linhas.\n",
        "Desse modo, ela mostra a avaliação de cada indivíduo.\n",
        "ex: \n",
        "\n",
        "fit = avaliacao_fitness_populacao(pop)\n",
        "print(fit)\n",
        "\n",
        "~ [265, 234, 411, 409, 371, ...]\n",
        "'''\n",
        "def avaliacao_fitness_populacao(populacao):\n",
        "    for index in range(tamanho_populacao):\n",
        "        fitness_populacao.append(fitness_function(populacao[index], index)[1])\n",
        "    return fitness_populacao"
      ],
      "metadata": {
        "id": "Z0OKY2B0mLB_"
      },
      "execution_count": 4,
      "outputs": []
    },
    {
      "cell_type": "code",
      "source": [
        "def selecao(populacao, fitness_populacao, k=3):\n",
        "    # primeira seleção aleatória por torneio\n",
        "    selecao_ix = randint(0, len(populacao))\n",
        "    for ix in randint(0, len(populacao), k-1):\n",
        "        if fitness_populacao[ix] < fitness_populacao[selecao_ix]:\n",
        "            selecao_ix = ix\n",
        "    return populacao[selecao_ix]\n"
      ],
      "metadata": {
        "id": "iTnjQ8v_mRG7"
      },
      "execution_count": 5,
      "outputs": []
    },
    {
      "cell_type": "code",
      "source": [
        "def crossover(p1, p2):\n",
        "    c1, c2 = p1.copy(), p2.copy()\n",
        "    c1 = [p1[0], p2[1], p2[2]]\n",
        "    c2 = [p2[0], p1[1], p1[2]]\n",
        "    return [c1, c2]"
      ],
      "metadata": {
        "id": "Gkf2b53LmVAc"
      },
      "execution_count": 6,
      "outputs": []
    },
    {
      "cell_type": "markdown",
      "source": [
        "## Modificações na questão prática\n",
        "\n",
        "1. Obter a seleção de indivíduos da população implementando o método da roleta;\n",
        "2. Obter a seleção de indivíduos da população implementando o método de ranking;\n",
        "3. Obter os melhores besouros modificando a quantidade de geração do algoritmo para: 300, 600 e 1200 gerações;\n",
        "4. Implementar uma função que realize a mutação de 1% dos indivíduos a cada geração.\n",
        "\n"
      ],
      "metadata": {
        "id": "q031V9jdxdRX"
      }
    },
    {
      "cell_type": "code",
      "source": [
        "# # Célula para testar funções\n",
        "# pop = gerar_populacao()\n",
        "\n",
        "# arr, sum_arr, count = fitness_function(pop[0], 0)\n",
        "\n",
        "# fit_acc = avaliacao_fitness_populacao(pop)\n",
        "# # print(len(fit_acc))\n",
        "# # select = selecao(pop, fit_acc)\n",
        "# # print(select)"
      ],
      "metadata": {
        "id": "MYlcIfvMsTN9"
      },
      "execution_count": 7,
      "outputs": []
    },
    {
      "cell_type": "markdown",
      "source": [
        "## Roulette wheel method\n",
        "\n",
        "1. Encontrar a soma todos os valores da avaliação (S)\n",
        "2. Encontrar a normalização dos valores da avaliação (populacao_fitness/S)\n",
        "3. Encontrar a avaliação acumulativa \n",
        "4. Gerar um número aleatório \n",
        "5. Selecionar o indivíduo com valor menor que a avaliação acumulativa. "
      ],
      "metadata": {
        "id": "zlWbn4jHQ9WA"
      }
    },
    {
      "cell_type": "code",
      "source": [
        "def roulette(populacao, fitness_populacao):\n",
        "    \n",
        "    s = sum(fitness_populacao) # Soma todos os valores fitness\n",
        "    prop = fitness_populacao/s # descobre a proporção entre valores fitness e o acumulativo\n",
        "    prop_360 = prop * 360 # transforma a proporção em um círculo: 360°\n",
        "\n",
        "    prop_acc = np.zeros(tamanho_populacao) # inicia um array de mesmo tamanho da população\n",
        "    a = 0\n",
        "    for i in range(tamanho_populacao):\n",
        "        a += prop_360[i]\n",
        "        prop_acc[i] = a\n",
        "    \n",
        "    index_selecionado = 0\n",
        "    lance = random.uniform(0,1) * 360.0\n",
        "    # print('Lance', lance)\n",
        "    for k in range(tamanho_populacao):\n",
        "        if prop_acc[k] > lance:\n",
        "            index_selecionado = k\n",
        "    return populacao[index_selecionado]"
      ],
      "metadata": {
        "id": "QytjmyygRDXI"
      },
      "execution_count": 8,
      "outputs": []
    },
    {
      "cell_type": "code",
      "source": [
        "# Célula para testar o metódo da seleção por roleta\n",
        "# for i in range (tamanho_populacao):\n",
        "# roule = roulette(pop, fit_acc)\n",
        "# print(roule)"
      ],
      "metadata": {
        "id": "drzaBkR1q8PH"
      },
      "execution_count": 9,
      "outputs": []
    },
    {
      "cell_type": "markdown",
      "source": [
        "## Ranking method\n",
        "1. Ordenar os valores de avaliação da população\n",
        "2. Dê uma probabilidade para a seleção de cada indivíduo da população\n",
        "3. Calcule a avaliação acumulativa\n",
        "4. Inicie o metódo da roleta\n",
        "\n",
        "-- O pi não foi implementado, só uma gambiarra\n",
        "\n",
        "1. Ordenar a lista por rank.\n",
        "2. Escolher o valor máximo e mínimo 1 <= Max <= 1.2 | Min = (2 - Max)\n",
        "3. Pi = (Max - (Max-Min) * (rank-1) / (m-1)) * 1/m\n"
      ],
      "metadata": {
        "id": "I5Mrlqu2UpHw"
      }
    },
    {
      "cell_type": "code",
      "source": [
        "import random \n",
        "def ranking(populacao, fitness_populacao):\n",
        "      #Ordenando a avaliação do menor para o maior\n",
        "      sorted_fitness = fitness_populacao.copy()\n",
        "      sorted_fitness.sort()\n",
        "\n",
        "      # Ordenando a população por avaliação do menor para o maior\n",
        "      # Dessa forma, é possível organizar por ordem\n",
        "      # A menor avaliação será o 1º na ordem, e assim por diante\n",
        "      sorted_populacao = []\n",
        "      i, j = 0, 0\n",
        "\n",
        "      for i in range(tamanho_populacao):\n",
        "          for j in range(tamanho_populacao):\n",
        "              if fitness_populacao[j] < sorted_fitness[i]:\n",
        "                  sorted_populacao.append(populacao[j])\n",
        "\n",
        "      selecionado = roulette(sorted_populacao, sorted_fitness)\n",
        "      return selecionado\n",
        "      "
      ],
      "metadata": {
        "id": "mzm9az7aUtNy"
      },
      "execution_count": 10,
      "outputs": []
    },
    {
      "cell_type": "code",
      "source": [
        "# Célula para testar o metódo de ranking\n",
        "# rank = ranking(pop, fit_acc)\n",
        "# print(rank)"
      ],
      "metadata": {
        "id": "3Rm5DK2ah3Qz"
      },
      "execution_count": 11,
      "outputs": []
    },
    {
      "cell_type": "code",
      "source": [
        "def algoritmo_genetico():\n",
        "    # gera uma população\n",
        "    populacao = gerar_populacao() \n",
        "    # print(populacao)\n",
        "\n",
        "    # inicia a função de treinamento, que por padrão retorna os dados da primeira linha\n",
        "    melhor_besouro, melhor_pontuacao, melhor_posicao = fitness_function(populacao[0], 0)\n",
        "\n",
        "    for gen in range(numero_geracoes):\n",
        "        fitness_populacao = avaliacao_fitness_populacao(populacao)\n",
        "    \n",
        "        # verifica o melhor besouro\n",
        "        for i in range(tamanho_populacao):\n",
        "            if fitness_populacao[i] < melhor_pontuacao:\n",
        "                melhor_besouro, melhor_pontuacao, melhor_posicao = populacao[i], fitness_populacao[i], i\n",
        "                print(melhor_besouro, \"É o melhor besouro, na posição %d, com pontuacao %d.\" % (melhor_posicao, melhor_pontuacao))\n",
        "\n",
        "        # selecionar os melhores da população e realizar nova geração\n",
        "        selecionados = [ranking(populacao, fitness_populacao) for _ in range(tamanho_populacao)]\n",
        "\n",
        "        filhos = list()\n",
        "\n",
        "        for i in range(0, tamanho_populacao, 2):\n",
        "            p1, p2 = selecionados[i], selecionados[i+1]\n",
        "            for filho in crossover(p1, p2):\n",
        "                filhos.append(filho)\n",
        "        populacao = filhos\n",
        "    print(\"Algoritmo Genético:\")\n",
        "    print(populacao)\n",
        "    return [melhor_besouro, melhor_pontuacao]\n"
      ],
      "metadata": {
        "id": "ga3G_tPfmgYh"
      },
      "execution_count": 12,
      "outputs": []
    },
    {
      "cell_type": "code",
      "source": [
        "melhor_besouro, melhor_pontuacao = algoritmo_genetico()\n",
        "print('Melhor besouro: %s; Melhor pontuação: %d' % (melhor_besouro, melhor_pontuacao))"
      ],
      "metadata": {
        "id": "7v3EJOVbml_H",
        "colab": {
          "base_uri": "https://localhost:8080/"
        },
        "outputId": "d3794fc3-1fe3-40c3-8919-e2900d73ad11"
      },
      "execution_count": 13,
      "outputs": [
        {
          "output_type": "stream",
          "name": "stdout",
          "text": [
            "[ 90  22 141] É o melhor besouro, na posição 1, com pontuacao 253.\n",
            "[120  10 113] É o melhor besouro, na posição 6, com pontuacao 243.\n",
            "[ 18 159  28] É o melhor besouro, na posição 7, com pontuacao 205.\n",
            "[32 71 90] É o melhor besouro, na posição 13, com pontuacao 193.\n",
            "[  2  21 100] É o melhor besouro, na posição 18, com pontuacao 123.\n",
            "[37 61  7] É o melhor besouro, na posição 91, com pontuacao 105.\n",
            "Algoritmo Genético:\n",
            "[[43, 90, 67], [43, 90, 67], [43, 90, 67], [43, 90, 67], [43, 90, 67], [43, 90, 67], [43, 90, 67], [43, 90, 67], [43, 90, 67], [43, 90, 67], [43, 90, 67], [43, 90, 67], [43, 90, 67], [43, 90, 67], [43, 90, 67], [43, 90, 67], [43, 90, 67], [43, 90, 67], [43, 90, 67], [43, 90, 67], [43, 90, 67], [43, 90, 67], [43, 90, 67], [43, 90, 67], [43, 90, 67], [43, 90, 67], [43, 90, 67], [43, 90, 67], [43, 90, 67], [43, 90, 67], [43, 90, 67], [43, 90, 67], [43, 90, 67], [43, 90, 67], [43, 90, 67], [43, 90, 67], [43, 90, 67], [43, 90, 67], [43, 90, 67], [43, 90, 67], [43, 90, 67], [43, 90, 67], [43, 90, 67], [43, 90, 67], [43, 90, 67], [43, 90, 67], [43, 90, 67], [43, 90, 67], [43, 90, 67], [43, 90, 67], [43, 90, 67], [43, 90, 67], [43, 90, 67], [43, 90, 67], [43, 90, 67], [43, 90, 67], [43, 90, 67], [43, 90, 67], [43, 90, 67], [43, 90, 67], [43, 90, 67], [43, 90, 67], [43, 90, 67], [43, 90, 67], [43, 90, 67], [43, 90, 67], [43, 90, 67], [43, 90, 67], [43, 90, 67], [43, 90, 67], [43, 90, 67], [43, 90, 67], [43, 90, 67], [43, 90, 67], [43, 90, 67], [43, 90, 67], [43, 90, 67], [43, 90, 67], [43, 90, 67], [43, 90, 67], [43, 90, 67], [43, 90, 67], [43, 90, 67], [43, 90, 67], [43, 90, 67], [43, 90, 67], [43, 90, 67], [43, 90, 67], [43, 90, 67], [43, 90, 67], [43, 90, 67], [43, 90, 67], [43, 90, 67], [43, 90, 67], [43, 90, 67], [43, 90, 67], [43, 90, 67], [43, 90, 67], [43, 90, 67], [43, 90, 67]]\n",
            "Melhor besouro: [37 61  7]; Melhor pontuação: 105\n"
          ]
        }
      ]
    }
  ]
}